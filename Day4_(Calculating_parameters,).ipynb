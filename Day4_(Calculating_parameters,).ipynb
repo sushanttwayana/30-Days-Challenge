{
  "metadata": {
    "kernelspec": {
      "language": "python",
      "display_name": "Python 3",
      "name": "python3"
    },
    "language_info": {
      "name": "python",
      "version": "3.10.13",
      "mimetype": "text/x-python",
      "codemirror_mode": {
        "name": "ipython",
        "version": 3
      },
      "pygments_lexer": "ipython3",
      "nbconvert_exporter": "python",
      "file_extension": ".py"
    },
    "kaggle": {
      "accelerator": "none",
      "dataSources": [],
      "dockerImageVersionId": 30732,
      "isInternetEnabled": true,
      "language": "python",
      "sourceType": "notebook",
      "isGpuEnabled": false
    },
    "colab": {
      "name": "Day4 (Calculating parameters,)",
      "provenance": [],
      "include_colab_link": true
    }
  },
  "nbformat_minor": 0,
  "nbformat": 4,
  "cells": [
    {
      "cell_type": "markdown",
      "metadata": {
        "id": "view-in-github",
        "colab_type": "text"
      },
      "source": [
        "<a href=\"https://colab.research.google.com/github/sushanttwayana/30-Days-Challenge/blob/main/Day4_(Calculating_parameters%2C).ipynb\" target=\"_parent\"><img src=\"https://colab.research.google.com/assets/colab-badge.svg\" alt=\"Open In Colab\"/></a>"
      ]
    },
    {
      "cell_type": "markdown",
      "source": [
        "# **Counting the number of parameters**\n",
        "\n",
        "Deep learning models are famous for having a lot of parameters. Recent language models have billions of parameters. With more parameters comes more computational complexity and longer training times, and a deep learning practitioner must know how many parameters their model has.\n",
        "\n",
        "In this exercise, you will calculate the number of parameters in your model, first using PyTorch then manually.\n",
        "\n",
        "Iterate through the model's parameters to update the total variable with the total number of parameters in the model."
      ],
      "metadata": {
        "id": "px-vsIb39yU7"
      }
    },
    {
      "cell_type": "code",
      "source": [
        "import numpy as np\n",
        "import torch\n",
        "import torch.nn as nn"
      ],
      "metadata": {
        "execution": {
          "iopub.status.busy": "2024-06-07T17:23:39.033446Z",
          "iopub.execute_input": "2024-06-07T17:23:39.033903Z",
          "iopub.status.idle": "2024-06-07T17:23:42.79902Z",
          "shell.execute_reply.started": "2024-06-07T17:23:39.033837Z",
          "shell.execute_reply": "2024-06-07T17:23:42.79794Z"
        },
        "trusted": true,
        "id": "vhvuEW109yVE"
      },
      "execution_count": null,
      "outputs": []
    },
    {
      "cell_type": "code",
      "source": [
        "model = nn.Sequential(nn.Linear(16, 4),\n",
        "                      nn.Linear(4, 2),\n",
        "                      nn.Linear(2, 1))\n",
        "\n",
        "total = 0\n",
        "\n",
        "# Calculate the number of parameters in the model\n",
        "for parameter in model.parameters():\n",
        "\n",
        "    total += parameter.numel()\n",
        "\n",
        "print(total)\n",
        "\n"
      ],
      "metadata": {
        "_uuid": "8f2839f25d086af736a60e9eeb907d3b93b6e0e5",
        "_cell_guid": "b1076dfc-b9ad-4769-8c92-a6c4dae69d19",
        "execution": {
          "iopub.status.busy": "2024-06-07T17:23:59.370313Z",
          "iopub.execute_input": "2024-06-07T17:23:59.370868Z",
          "iopub.status.idle": "2024-06-07T17:23:59.409059Z",
          "shell.execute_reply.started": "2024-06-07T17:23:59.370831Z",
          "shell.execute_reply": "2024-06-07T17:23:59.40796Z"
        },
        "trusted": true,
        "id": "qC2QEh9m9yVH",
        "outputId": "56d19324-97ab-47f9-d416-1e9093146afb"
      },
      "execution_count": null,
      "outputs": [
        {
          "name": "stdout",
          "text": "81\n",
          "output_type": "stream"
        }
      ]
    },
    {
      "cell_type": "markdown",
      "source": [
        "**Manipulating the capacity of a network**\n",
        "\n",
        "In this exercise, you will practice creating neural networks with different capacities. The capacity of a network reflects the number of parameters in said network. To help you, a calculate_capacity() function has been implemented, as follows:\n",
        "\n",
        "* Create a neural network with exactly three linear layers and less than 120 parameters, which takes n_features as inputs and outputs n_classes.\n",
        "\n",
        "* Create a neural network with exactly four linear layers and more than 120 parameters, which takes n_features as inputs and outputs n_classes."
      ],
      "metadata": {
        "id": "gdzGAYwb9yVJ"
      }
    },
    {
      "cell_type": "code",
      "source": [
        "def calculate_capacity(model):\n",
        "    total = 0\n",
        "    for p in model.parameters():\n",
        "        total += p.numel()\n",
        "        return total"
      ],
      "metadata": {
        "execution": {
          "iopub.status.busy": "2024-06-07T17:24:12.019805Z",
          "iopub.execute_input": "2024-06-07T17:24:12.020253Z",
          "iopub.status.idle": "2024-06-07T17:24:12.029272Z",
          "shell.execute_reply.started": "2024-06-07T17:24:12.02022Z",
          "shell.execute_reply": "2024-06-07T17:24:12.028031Z"
        },
        "trusted": true,
        "id": "O1zcLax29yVL"
      },
      "execution_count": null,
      "outputs": []
    },
    {
      "cell_type": "code",
      "source": [
        "n_features = 8\n",
        "n_classes = 2\n",
        "\n",
        "input_tensor = torch.Tensor([[3, 4, 6, 2, 3, 6, 8, 9]])\n",
        "\n",
        "# Create a neural network with less than 120 parameters\n",
        "model = nn.Sequential(nn.Linear(n_features, 8),\n",
        "                      nn.Linear(8, 4), nn.Linear(4, n_classes))\n",
        "output = model(input_tensor)\n",
        "\n",
        "print(calculate_capacity(model))"
      ],
      "metadata": {
        "execution": {
          "iopub.status.busy": "2024-06-07T17:24:29.02915Z",
          "iopub.execute_input": "2024-06-07T17:24:29.029666Z",
          "iopub.status.idle": "2024-06-07T17:24:29.073416Z",
          "shell.execute_reply.started": "2024-06-07T17:24:29.029624Z",
          "shell.execute_reply": "2024-06-07T17:24:29.07193Z"
        },
        "trusted": true,
        "id": "E3tJbJcO9yVP",
        "outputId": "8365f847-3f34-47f1-b783-8db42939c021"
      },
      "execution_count": null,
      "outputs": [
        {
          "name": "stdout",
          "text": "64\n",
          "output_type": "stream"
        }
      ]
    },
    {
      "cell_type": "code",
      "source": [
        "n_features = 8\n",
        "n_classes = 2\n",
        "\n",
        "input_tensor = torch.Tensor([[3, 4, 6, 2, 3, 6, 8, 9]])\n",
        "\n",
        "# Create a neural network with more than 120 parameters\n",
        "model = nn.Sequential(nn.Linear(n_features, 16),\n",
        "nn.Linear(16,8), nn.Linear(8, 4), nn.Linear(4,n_classes))\n",
        "\n",
        "output = model(input_tensor)\n",
        "\n",
        "print(calculate_capacity(model))"
      ],
      "metadata": {
        "execution": {
          "iopub.status.busy": "2024-06-07T17:24:32.586965Z",
          "iopub.execute_input": "2024-06-07T17:24:32.587358Z",
          "iopub.status.idle": "2024-06-07T17:24:32.598599Z",
          "shell.execute_reply.started": "2024-06-07T17:24:32.587327Z",
          "shell.execute_reply": "2024-06-07T17:24:32.597349Z"
        },
        "trusted": true,
        "id": "qctSvmdS9yVR",
        "outputId": "447cb9ba-c5f8-4d80-9fd7-34a7dac852b8"
      },
      "execution_count": null,
      "outputs": [
        {
          "name": "stdout",
          "text": "128\n",
          "output_type": "stream"
        }
      ]
    },
    {
      "cell_type": "markdown",
      "source": [
        "Changing the number of layers and the number of neurons per layer is a great way to quickly iterate on your model and experiment."
      ],
      "metadata": {
        "id": "dEHp6zWo9yVT"
      }
    },
    {
      "cell_type": "code",
      "source": [],
      "metadata": {
        "id": "FOgBWNkF9yVU"
      },
      "execution_count": null,
      "outputs": []
    }
  ]
}